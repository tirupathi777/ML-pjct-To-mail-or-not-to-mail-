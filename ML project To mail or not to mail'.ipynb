{
  "nbformat": 4,
  "nbformat_minor": 0,
  "metadata": {
    "kernelspec": {
      "display_name": "Python 3",
      "language": "python",
      "name": "python3"
    },
    "language_info": {
      "codemirror_mode": {
        "name": "ipython",
        "version": 3
      },
      "file_extension": ".py",
      "mimetype": "text/x-python",
      "name": "python",
      "nbconvert_exporter": "python",
      "pygments_lexer": "ipython3",
      "version": "3.7.4"
    },
    "colab": {
      "name": "Project 2.ipynb",
      "provenance": [],
      "collapsed_sections": []
    }
  },
  "cells": [
    {
      "cell_type": "code",
      "metadata": {
        "id": "qAnMRU3xZqF1"
      },
      "source": [
        "import warnings\n",
        "warnings.filterwarnings('ignore')\n",
        "import pandas as pd\n",
        "import numpy as np\n",
        "import math"
      ],
      "execution_count": null,
      "outputs": []
    },
    {
      "cell_type": "code",
      "metadata": {
        "id": "WfTgn_cSZqF9"
      },
      "source": [
        "dt_train=r'D:/AI & Data Science/Python/Project 2/carvan_train.csv'\n",
        "dt_test=r'D:/AI & Data Science/Python/Project 2/carvan_test.csv'\n",
        "cd_train=pd.read_csv(dt_train)\n",
        "cd_test=pd.read_csv(dt_test)"
      ],
      "execution_count": null,
      "outputs": []
    },
    {
      "cell_type": "code",
      "metadata": {
        "id": "MVr9pbsGZqF-",
        "outputId": "ef0f63b0-d55f-4b72-ea03-1c3952001e2f"
      },
      "source": [
        "cd_train.head()"
      ],
      "execution_count": null,
      "outputs": [
        {
          "output_type": "execute_result",
          "data": {
            "text/html": [
              "<div>\n",
              "<style scoped>\n",
              "    .dataframe tbody tr th:only-of-type {\n",
              "        vertical-align: middle;\n",
              "    }\n",
              "\n",
              "    .dataframe tbody tr th {\n",
              "        vertical-align: top;\n",
              "    }\n",
              "\n",
              "    .dataframe thead th {\n",
              "        text-align: right;\n",
              "    }\n",
              "</style>\n",
              "<table border=\"1\" class=\"dataframe\">\n",
              "  <thead>\n",
              "    <tr style=\"text-align: right;\">\n",
              "      <th></th>\n",
              "      <th>V1</th>\n",
              "      <th>V2</th>\n",
              "      <th>V3</th>\n",
              "      <th>V4</th>\n",
              "      <th>V5</th>\n",
              "      <th>V6</th>\n",
              "      <th>V7</th>\n",
              "      <th>V8</th>\n",
              "      <th>V9</th>\n",
              "      <th>V10</th>\n",
              "      <th>...</th>\n",
              "      <th>V77</th>\n",
              "      <th>V78</th>\n",
              "      <th>V79</th>\n",
              "      <th>V80</th>\n",
              "      <th>V81</th>\n",
              "      <th>V82</th>\n",
              "      <th>V83</th>\n",
              "      <th>V84</th>\n",
              "      <th>V85</th>\n",
              "      <th>V86</th>\n",
              "    </tr>\n",
              "  </thead>\n",
              "  <tbody>\n",
              "    <tr>\n",
              "      <th>0</th>\n",
              "      <td>33</td>\n",
              "      <td>1</td>\n",
              "      <td>3</td>\n",
              "      <td>2</td>\n",
              "      <td>8</td>\n",
              "      <td>0</td>\n",
              "      <td>5</td>\n",
              "      <td>1</td>\n",
              "      <td>3</td>\n",
              "      <td>7</td>\n",
              "      <td>...</td>\n",
              "      <td>0</td>\n",
              "      <td>0</td>\n",
              "      <td>0</td>\n",
              "      <td>1</td>\n",
              "      <td>0</td>\n",
              "      <td>0</td>\n",
              "      <td>0</td>\n",
              "      <td>0</td>\n",
              "      <td>0</td>\n",
              "      <td>0</td>\n",
              "    </tr>\n",
              "    <tr>\n",
              "      <th>1</th>\n",
              "      <td>37</td>\n",
              "      <td>1</td>\n",
              "      <td>2</td>\n",
              "      <td>2</td>\n",
              "      <td>8</td>\n",
              "      <td>1</td>\n",
              "      <td>4</td>\n",
              "      <td>1</td>\n",
              "      <td>4</td>\n",
              "      <td>6</td>\n",
              "      <td>...</td>\n",
              "      <td>0</td>\n",
              "      <td>0</td>\n",
              "      <td>0</td>\n",
              "      <td>1</td>\n",
              "      <td>0</td>\n",
              "      <td>0</td>\n",
              "      <td>0</td>\n",
              "      <td>0</td>\n",
              "      <td>0</td>\n",
              "      <td>0</td>\n",
              "    </tr>\n",
              "    <tr>\n",
              "      <th>2</th>\n",
              "      <td>37</td>\n",
              "      <td>1</td>\n",
              "      <td>2</td>\n",
              "      <td>2</td>\n",
              "      <td>8</td>\n",
              "      <td>0</td>\n",
              "      <td>4</td>\n",
              "      <td>2</td>\n",
              "      <td>4</td>\n",
              "      <td>3</td>\n",
              "      <td>...</td>\n",
              "      <td>0</td>\n",
              "      <td>0</td>\n",
              "      <td>0</td>\n",
              "      <td>1</td>\n",
              "      <td>0</td>\n",
              "      <td>0</td>\n",
              "      <td>0</td>\n",
              "      <td>0</td>\n",
              "      <td>0</td>\n",
              "      <td>0</td>\n",
              "    </tr>\n",
              "    <tr>\n",
              "      <th>3</th>\n",
              "      <td>9</td>\n",
              "      <td>1</td>\n",
              "      <td>3</td>\n",
              "      <td>3</td>\n",
              "      <td>3</td>\n",
              "      <td>2</td>\n",
              "      <td>3</td>\n",
              "      <td>2</td>\n",
              "      <td>4</td>\n",
              "      <td>5</td>\n",
              "      <td>...</td>\n",
              "      <td>0</td>\n",
              "      <td>0</td>\n",
              "      <td>0</td>\n",
              "      <td>1</td>\n",
              "      <td>0</td>\n",
              "      <td>0</td>\n",
              "      <td>0</td>\n",
              "      <td>0</td>\n",
              "      <td>0</td>\n",
              "      <td>0</td>\n",
              "    </tr>\n",
              "    <tr>\n",
              "      <th>4</th>\n",
              "      <td>40</td>\n",
              "      <td>1</td>\n",
              "      <td>4</td>\n",
              "      <td>2</td>\n",
              "      <td>10</td>\n",
              "      <td>1</td>\n",
              "      <td>4</td>\n",
              "      <td>1</td>\n",
              "      <td>4</td>\n",
              "      <td>7</td>\n",
              "      <td>...</td>\n",
              "      <td>0</td>\n",
              "      <td>0</td>\n",
              "      <td>0</td>\n",
              "      <td>1</td>\n",
              "      <td>0</td>\n",
              "      <td>0</td>\n",
              "      <td>0</td>\n",
              "      <td>0</td>\n",
              "      <td>0</td>\n",
              "      <td>0</td>\n",
              "    </tr>\n",
              "  </tbody>\n",
              "</table>\n",
              "<p>5 rows × 86 columns</p>\n",
              "</div>"
            ],
            "text/plain": [
              "   V1  V2  V3  V4  V5  V6  V7  V8  V9  V10  ...  V77  V78  V79  V80  V81  V82  \\\n",
              "0  33   1   3   2   8   0   5   1   3    7  ...    0    0    0    1    0    0   \n",
              "1  37   1   2   2   8   1   4   1   4    6  ...    0    0    0    1    0    0   \n",
              "2  37   1   2   2   8   0   4   2   4    3  ...    0    0    0    1    0    0   \n",
              "3   9   1   3   3   3   2   3   2   4    5  ...    0    0    0    1    0    0   \n",
              "4  40   1   4   2  10   1   4   1   4    7  ...    0    0    0    1    0    0   \n",
              "\n",
              "   V83  V84  V85  V86  \n",
              "0    0    0    0    0  \n",
              "1    0    0    0    0  \n",
              "2    0    0    0    0  \n",
              "3    0    0    0    0  \n",
              "4    0    0    0    0  \n",
              "\n",
              "[5 rows x 86 columns]"
            ]
          },
          "metadata": {
            "tags": []
          },
          "execution_count": 62
        }
      ]
    },
    {
      "cell_type": "code",
      "metadata": {
        "id": "crXa13NFZqGA",
        "outputId": "8dd355d7-d0c9-45f3-80b4-f6130d7c0d9d"
      },
      "source": [
        "cd_test"
      ],
      "execution_count": null,
      "outputs": [
        {
          "output_type": "execute_result",
          "data": {
            "text/html": [
              "<div>\n",
              "<style scoped>\n",
              "    .dataframe tbody tr th:only-of-type {\n",
              "        vertical-align: middle;\n",
              "    }\n",
              "\n",
              "    .dataframe tbody tr th {\n",
              "        vertical-align: top;\n",
              "    }\n",
              "\n",
              "    .dataframe thead th {\n",
              "        text-align: right;\n",
              "    }\n",
              "</style>\n",
              "<table border=\"1\" class=\"dataframe\">\n",
              "  <thead>\n",
              "    <tr style=\"text-align: right;\">\n",
              "      <th></th>\n",
              "      <th>V1</th>\n",
              "      <th>V2</th>\n",
              "      <th>V3</th>\n",
              "      <th>V4</th>\n",
              "      <th>V5</th>\n",
              "      <th>V6</th>\n",
              "      <th>V7</th>\n",
              "      <th>V8</th>\n",
              "      <th>V9</th>\n",
              "      <th>V10</th>\n",
              "      <th>...</th>\n",
              "      <th>V76</th>\n",
              "      <th>V77</th>\n",
              "      <th>V78</th>\n",
              "      <th>V79</th>\n",
              "      <th>V80</th>\n",
              "      <th>V81</th>\n",
              "      <th>V82</th>\n",
              "      <th>V83</th>\n",
              "      <th>V84</th>\n",
              "      <th>V85</th>\n",
              "    </tr>\n",
              "  </thead>\n",
              "  <tbody>\n",
              "    <tr>\n",
              "      <th>0</th>\n",
              "      <td>33</td>\n",
              "      <td>1</td>\n",
              "      <td>4</td>\n",
              "      <td>2</td>\n",
              "      <td>8</td>\n",
              "      <td>0</td>\n",
              "      <td>6</td>\n",
              "      <td>0</td>\n",
              "      <td>3</td>\n",
              "      <td>5</td>\n",
              "      <td>...</td>\n",
              "      <td>0</td>\n",
              "      <td>0</td>\n",
              "      <td>0</td>\n",
              "      <td>0</td>\n",
              "      <td>1</td>\n",
              "      <td>0</td>\n",
              "      <td>0</td>\n",
              "      <td>0</td>\n",
              "      <td>0</td>\n",
              "      <td>0</td>\n",
              "    </tr>\n",
              "    <tr>\n",
              "      <th>1</th>\n",
              "      <td>6</td>\n",
              "      <td>1</td>\n",
              "      <td>3</td>\n",
              "      <td>2</td>\n",
              "      <td>2</td>\n",
              "      <td>0</td>\n",
              "      <td>5</td>\n",
              "      <td>0</td>\n",
              "      <td>4</td>\n",
              "      <td>5</td>\n",
              "      <td>...</td>\n",
              "      <td>2</td>\n",
              "      <td>0</td>\n",
              "      <td>0</td>\n",
              "      <td>0</td>\n",
              "      <td>1</td>\n",
              "      <td>0</td>\n",
              "      <td>0</td>\n",
              "      <td>0</td>\n",
              "      <td>0</td>\n",
              "      <td>0</td>\n",
              "    </tr>\n",
              "    <tr>\n",
              "      <th>2</th>\n",
              "      <td>39</td>\n",
              "      <td>1</td>\n",
              "      <td>3</td>\n",
              "      <td>3</td>\n",
              "      <td>9</td>\n",
              "      <td>1</td>\n",
              "      <td>4</td>\n",
              "      <td>2</td>\n",
              "      <td>3</td>\n",
              "      <td>5</td>\n",
              "      <td>...</td>\n",
              "      <td>1</td>\n",
              "      <td>0</td>\n",
              "      <td>0</td>\n",
              "      <td>0</td>\n",
              "      <td>1</td>\n",
              "      <td>0</td>\n",
              "      <td>0</td>\n",
              "      <td>0</td>\n",
              "      <td>0</td>\n",
              "      <td>0</td>\n",
              "    </tr>\n",
              "    <tr>\n",
              "      <th>3</th>\n",
              "      <td>9</td>\n",
              "      <td>1</td>\n",
              "      <td>2</td>\n",
              "      <td>3</td>\n",
              "      <td>3</td>\n",
              "      <td>2</td>\n",
              "      <td>3</td>\n",
              "      <td>2</td>\n",
              "      <td>4</td>\n",
              "      <td>5</td>\n",
              "      <td>...</td>\n",
              "      <td>0</td>\n",
              "      <td>0</td>\n",
              "      <td>0</td>\n",
              "      <td>0</td>\n",
              "      <td>1</td>\n",
              "      <td>0</td>\n",
              "      <td>0</td>\n",
              "      <td>0</td>\n",
              "      <td>0</td>\n",
              "      <td>0</td>\n",
              "    </tr>\n",
              "    <tr>\n",
              "      <th>4</th>\n",
              "      <td>31</td>\n",
              "      <td>1</td>\n",
              "      <td>2</td>\n",
              "      <td>4</td>\n",
              "      <td>7</td>\n",
              "      <td>0</td>\n",
              "      <td>2</td>\n",
              "      <td>0</td>\n",
              "      <td>7</td>\n",
              "      <td>9</td>\n",
              "      <td>...</td>\n",
              "      <td>0</td>\n",
              "      <td>0</td>\n",
              "      <td>0</td>\n",
              "      <td>0</td>\n",
              "      <td>1</td>\n",
              "      <td>0</td>\n",
              "      <td>0</td>\n",
              "      <td>0</td>\n",
              "      <td>0</td>\n",
              "      <td>0</td>\n",
              "    </tr>\n",
              "    <tr>\n",
              "      <th>...</th>\n",
              "      <td>...</td>\n",
              "      <td>...</td>\n",
              "      <td>...</td>\n",
              "      <td>...</td>\n",
              "      <td>...</td>\n",
              "      <td>...</td>\n",
              "      <td>...</td>\n",
              "      <td>...</td>\n",
              "      <td>...</td>\n",
              "      <td>...</td>\n",
              "      <td>...</td>\n",
              "      <td>...</td>\n",
              "      <td>...</td>\n",
              "      <td>...</td>\n",
              "      <td>...</td>\n",
              "      <td>...</td>\n",
              "      <td>...</td>\n",
              "      <td>...</td>\n",
              "      <td>...</td>\n",
              "      <td>...</td>\n",
              "      <td>...</td>\n",
              "    </tr>\n",
              "    <tr>\n",
              "      <th>3995</th>\n",
              "      <td>33</td>\n",
              "      <td>1</td>\n",
              "      <td>2</td>\n",
              "      <td>4</td>\n",
              "      <td>8</td>\n",
              "      <td>0</td>\n",
              "      <td>7</td>\n",
              "      <td>2</td>\n",
              "      <td>0</td>\n",
              "      <td>5</td>\n",
              "      <td>...</td>\n",
              "      <td>0</td>\n",
              "      <td>0</td>\n",
              "      <td>0</td>\n",
              "      <td>0</td>\n",
              "      <td>1</td>\n",
              "      <td>0</td>\n",
              "      <td>0</td>\n",
              "      <td>0</td>\n",
              "      <td>0</td>\n",
              "      <td>0</td>\n",
              "    </tr>\n",
              "    <tr>\n",
              "      <th>3996</th>\n",
              "      <td>24</td>\n",
              "      <td>1</td>\n",
              "      <td>2</td>\n",
              "      <td>3</td>\n",
              "      <td>5</td>\n",
              "      <td>1</td>\n",
              "      <td>5</td>\n",
              "      <td>1</td>\n",
              "      <td>3</td>\n",
              "      <td>4</td>\n",
              "      <td>...</td>\n",
              "      <td>1</td>\n",
              "      <td>0</td>\n",
              "      <td>0</td>\n",
              "      <td>0</td>\n",
              "      <td>1</td>\n",
              "      <td>0</td>\n",
              "      <td>0</td>\n",
              "      <td>0</td>\n",
              "      <td>0</td>\n",
              "      <td>0</td>\n",
              "    </tr>\n",
              "    <tr>\n",
              "      <th>3997</th>\n",
              "      <td>36</td>\n",
              "      <td>1</td>\n",
              "      <td>2</td>\n",
              "      <td>3</td>\n",
              "      <td>8</td>\n",
              "      <td>1</td>\n",
              "      <td>5</td>\n",
              "      <td>1</td>\n",
              "      <td>3</td>\n",
              "      <td>7</td>\n",
              "      <td>...</td>\n",
              "      <td>0</td>\n",
              "      <td>0</td>\n",
              "      <td>0</td>\n",
              "      <td>0</td>\n",
              "      <td>1</td>\n",
              "      <td>0</td>\n",
              "      <td>0</td>\n",
              "      <td>0</td>\n",
              "      <td>1</td>\n",
              "      <td>0</td>\n",
              "    </tr>\n",
              "    <tr>\n",
              "      <th>3998</th>\n",
              "      <td>33</td>\n",
              "      <td>1</td>\n",
              "      <td>3</td>\n",
              "      <td>3</td>\n",
              "      <td>8</td>\n",
              "      <td>1</td>\n",
              "      <td>4</td>\n",
              "      <td>2</td>\n",
              "      <td>3</td>\n",
              "      <td>7</td>\n",
              "      <td>...</td>\n",
              "      <td>0</td>\n",
              "      <td>0</td>\n",
              "      <td>0</td>\n",
              "      <td>0</td>\n",
              "      <td>0</td>\n",
              "      <td>0</td>\n",
              "      <td>0</td>\n",
              "      <td>0</td>\n",
              "      <td>0</td>\n",
              "      <td>0</td>\n",
              "    </tr>\n",
              "    <tr>\n",
              "      <th>3999</th>\n",
              "      <td>8</td>\n",
              "      <td>1</td>\n",
              "      <td>2</td>\n",
              "      <td>3</td>\n",
              "      <td>2</td>\n",
              "      <td>4</td>\n",
              "      <td>3</td>\n",
              "      <td>0</td>\n",
              "      <td>3</td>\n",
              "      <td>5</td>\n",
              "      <td>...</td>\n",
              "      <td>0</td>\n",
              "      <td>0</td>\n",
              "      <td>0</td>\n",
              "      <td>0</td>\n",
              "      <td>1</td>\n",
              "      <td>0</td>\n",
              "      <td>0</td>\n",
              "      <td>0</td>\n",
              "      <td>0</td>\n",
              "      <td>0</td>\n",
              "    </tr>\n",
              "  </tbody>\n",
              "</table>\n",
              "<p>4000 rows × 85 columns</p>\n",
              "</div>"
            ],
            "text/plain": [
              "      V1  V2  V3  V4  V5  V6  V7  V8  V9  V10  ...  V76  V77  V78  V79  V80  \\\n",
              "0     33   1   4   2   8   0   6   0   3    5  ...    0    0    0    0    1   \n",
              "1      6   1   3   2   2   0   5   0   4    5  ...    2    0    0    0    1   \n",
              "2     39   1   3   3   9   1   4   2   3    5  ...    1    0    0    0    1   \n",
              "3      9   1   2   3   3   2   3   2   4    5  ...    0    0    0    0    1   \n",
              "4     31   1   2   4   7   0   2   0   7    9  ...    0    0    0    0    1   \n",
              "...   ..  ..  ..  ..  ..  ..  ..  ..  ..  ...  ...  ...  ...  ...  ...  ...   \n",
              "3995  33   1   2   4   8   0   7   2   0    5  ...    0    0    0    0    1   \n",
              "3996  24   1   2   3   5   1   5   1   3    4  ...    1    0    0    0    1   \n",
              "3997  36   1   2   3   8   1   5   1   3    7  ...    0    0    0    0    1   \n",
              "3998  33   1   3   3   8   1   4   2   3    7  ...    0    0    0    0    0   \n",
              "3999   8   1   2   3   2   4   3   0   3    5  ...    0    0    0    0    1   \n",
              "\n",
              "      V81  V82  V83  V84  V85  \n",
              "0       0    0    0    0    0  \n",
              "1       0    0    0    0    0  \n",
              "2       0    0    0    0    0  \n",
              "3       0    0    0    0    0  \n",
              "4       0    0    0    0    0  \n",
              "...   ...  ...  ...  ...  ...  \n",
              "3995    0    0    0    0    0  \n",
              "3996    0    0    0    0    0  \n",
              "3997    0    0    0    1    0  \n",
              "3998    0    0    0    0    0  \n",
              "3999    0    0    0    0    0  \n",
              "\n",
              "[4000 rows x 85 columns]"
            ]
          },
          "metadata": {
            "tags": []
          },
          "execution_count": 63
        }
      ]
    },
    {
      "cell_type": "code",
      "metadata": {
        "id": "3SIZRiv_ZqGB"
      },
      "source": [
        "from sklearn.model_selection import train_test_split,KFold\n",
        "from sklearn.linear_model import LogisticRegression\n",
        "import sklearn\n",
        "from sklearn.model_selection import train_test_split\n",
        "from sklearn.linear_model import LinearRegression, Lasso, Ridge\n",
        "import numpy as np\n",
        "from sklearn.model_selection import KFold\n",
        "%matplotlib inline\n",
        "from sklearn.metrics import roc_auc_score"
      ],
      "execution_count": null,
      "outputs": []
    },
    {
      "cell_type": "code",
      "metadata": {
        "id": "U-ClECKvZqGC"
      },
      "source": [
        "bd_train, bd_test = train_test_split(cd_train, test_size = 0.2,random_state=2)"
      ],
      "execution_count": null,
      "outputs": []
    },
    {
      "cell_type": "code",
      "metadata": {
        "id": "8kGlWyskZqGD"
      },
      "source": [
        "x_train=bd_train.drop([\"V86\"],1)\n",
        "y_train=bd_train[\"V86\"]\n",
        "x_test=bd_test.drop([\"V86\"],1)\n",
        "y_test=bd_test[\"V86\"]"
      ],
      "execution_count": null,
      "outputs": []
    },
    {
      "cell_type": "code",
      "metadata": {
        "id": "aDqra_DFZqGD"
      },
      "source": [
        "logr=LogisticRegression(penalty=\"l1\",class_weight=\"balanced\",random_state=2)"
      ],
      "execution_count": null,
      "outputs": []
    },
    {
      "cell_type": "code",
      "metadata": {
        "id": "hdP8w2UxZqGD",
        "outputId": "47ed396b-c63e-40a3-c595-4d065737bf16"
      },
      "source": [
        "logr.fit(x_train,y_train)"
      ],
      "execution_count": null,
      "outputs": [
        {
          "output_type": "execute_result",
          "data": {
            "text/plain": [
              "LogisticRegression(C=1.0, class_weight='balanced', dual=False,\n",
              "                   fit_intercept=True, intercept_scaling=1, l1_ratio=None,\n",
              "                   max_iter=100, multi_class='warn', n_jobs=None, penalty='l1',\n",
              "                   random_state=2, solver='warn', tol=0.0001, verbose=0,\n",
              "                   warm_start=False)"
            ]
          },
          "metadata": {
            "tags": []
          },
          "execution_count": 68
        }
      ]
    },
    {
      "cell_type": "code",
      "metadata": {
        "id": "AAaSe3BwZqGE",
        "outputId": "c8439ada-e128-4214-bd3b-a6f7e4064bc2"
      },
      "source": [
        "logr.predict_proba(x_test)"
      ],
      "execution_count": null,
      "outputs": [
        {
          "output_type": "execute_result",
          "data": {
            "text/plain": [
              "array([[0.46269231, 0.53730769],\n",
              "       [0.55846019, 0.44153981],\n",
              "       [0.22977718, 0.77022282],\n",
              "       ...,\n",
              "       [0.2325136 , 0.7674864 ],\n",
              "       [0.82976088, 0.17023912],\n",
              "       [0.74741265, 0.25258735]])"
            ]
          },
          "metadata": {
            "tags": []
          },
          "execution_count": 69
        }
      ]
    },
    {
      "cell_type": "code",
      "metadata": {
        "id": "0K_8pPtDZqGE",
        "outputId": "e28ee506-2a38-47ac-823e-518f1a140fe1"
      },
      "source": [
        "logr.predict(x_test)"
      ],
      "execution_count": null,
      "outputs": [
        {
          "output_type": "execute_result",
          "data": {
            "text/plain": [
              "array([1, 0, 1, ..., 1, 0, 0], dtype=int64)"
            ]
          },
          "metadata": {
            "tags": []
          },
          "execution_count": 73
        }
      ]
    },
    {
      "cell_type": "code",
      "metadata": {
        "id": "9FpsI4e2ZqGF",
        "outputId": "c34601e8-8673-426d-fb8d-bbc97c38ac45"
      },
      "source": [
        "roc_auc_score(y_test,logr.predict(x_test))"
      ],
      "execution_count": null,
      "outputs": [
        {
          "output_type": "execute_result",
          "data": {
            "text/plain": [
              "0.6759633027522937"
            ]
          },
          "metadata": {
            "tags": []
          },
          "execution_count": 70
        }
      ]
    },
    {
      "cell_type": "code",
      "metadata": {
        "id": "IU6P3PV0ZqGF"
      },
      "source": [
        "prob_score=pd.Series(list(zip(*logr.predict_proba(x_train)))[1])"
      ],
      "execution_count": null,
      "outputs": []
    },
    {
      "cell_type": "code",
      "metadata": {
        "id": "yv1bi07BZqGF",
        "outputId": "d93a09bd-bb2d-45e7-e6a8-ab88d4bc6c67"
      },
      "source": [
        "prob_score"
      ],
      "execution_count": null,
      "outputs": [
        {
          "output_type": "execute_result",
          "data": {
            "text/plain": [
              "0       0.391726\n",
              "1       0.055335\n",
              "2       0.444702\n",
              "3       0.187836\n",
              "4       0.297118\n",
              "          ...   \n",
              "4652    0.060818\n",
              "4653    0.643363\n",
              "4654    0.550209\n",
              "4655    0.136016\n",
              "4656    0.305928\n",
              "Length: 4657, dtype: float64"
            ]
          },
          "metadata": {
            "tags": []
          },
          "execution_count": 72
        }
      ]
    },
    {
      "cell_type": "code",
      "metadata": {
        "id": "4XRdonChZqGF"
      },
      "source": [
        "cutoffs=np.linspace(0,1,100)"
      ],
      "execution_count": null,
      "outputs": []
    },
    {
      "cell_type": "code",
      "metadata": {
        "id": "FWN_D_WGZqGG"
      },
      "source": [
        "KS_cut=[]\n",
        "for cutoff in cutoffs:\n",
        "    predicted=pd.Series([0]*len(y_train))\n",
        "    predicted[prob_score>cutoff]=1\n",
        "    df=pd.DataFrame(list(zip(y_train,predicted)),\n",
        "                    columns=[\"real\",\"predicted\"])\n",
        "    TP=len(df[(df[\"real\"]==1) &(df[\"predicted\"]==1) ])\n",
        "    FP=len(df[(df[\"real\"]==0) &(df[\"predicted\"]==1) ])\n",
        "    TN=len(df[(df[\"real\"]==0) &(df[\"predicted\"]==0) ])\n",
        "    FN=len(df[(df[\"real\"]==1) &(df[\"predicted\"]==0) ])\n",
        "    P=TP+FN\n",
        "    N=TN+FP\n",
        "    KS=(TP/P)-(FP/N)\n",
        "    KS_cut.append(KS)\n",
        "\n",
        "cutoff_data=pd.DataFrame(list(zip(cutoffs,KS_cut)),columns=[\"cutoff\",\"KS\"])\n",
        "\n",
        "KS_cutoff=cutoff_data[cutoff_data[\"KS\"]==cutoff_data[\"KS\"].max()][\"cutoff\"]"
      ],
      "execution_count": null,
      "outputs": []
    },
    {
      "cell_type": "code",
      "metadata": {
        "id": "V2uuNserZqGG",
        "outputId": "ae5a8689-8144-44c8-f1af-4b80a87c4a1b"
      },
      "source": [
        "KS_cutoff"
      ],
      "execution_count": null,
      "outputs": [
        {
          "output_type": "execute_result",
          "data": {
            "text/plain": [
              "56    0.565657\n",
              "Name: cutoff, dtype: float64"
            ]
          },
          "metadata": {
            "tags": []
          },
          "execution_count": 77
        }
      ]
    },
    {
      "cell_type": "code",
      "metadata": {
        "id": "mCbMFhPOZqGG",
        "outputId": "5cbb4967-abcd-4a5a-b0d9-5a46a659a275"
      },
      "source": [
        "# Performance on test data\n",
        "prob_score_test=pd.Series(list(zip(*logr.predict_proba(x_test)))[1])\n",
        "\n",
        "predicted_test=pd.Series([0]*len(y_test))\n",
        "predicted_test[prob_score_test>float(KS_cutoff)]=1\n",
        "\n",
        "df_test=pd.DataFrame(list(zip(y_test,predicted_test)),\n",
        "                     columns=[\"real\",\"predicted\"])\n",
        "\n",
        "k=pd.crosstab(df_test['real'],df_test[\"predicted\"])\n",
        "print('confusion matrix :\\n \\n ',k)\n",
        "TN=k.iloc[0,0]\n",
        "TP=k.iloc[1,1]\n",
        "FP=k.iloc[0,1]\n",
        "FN=k.iloc[1,0]\n",
        "P=TP+FN\n",
        "N=TN+FP"
      ],
      "execution_count": null,
      "outputs": [
        {
          "output_type": "stream",
          "text": [
            "confusion matrix :\n",
            " \n",
            "  predicted    0    1\n",
            "real               \n",
            "0          853  237\n",
            "1           36   39\n"
          ],
          "name": "stdout"
        }
      ]
    },
    {
      "cell_type": "code",
      "metadata": {
        "id": "-i61hiZCZqGH",
        "outputId": "5da6ff98-fb3e-4811-bd0e-fdf9006ad184"
      },
      "source": [
        "# Accuracy of test\n",
        "(TP+TN)/(P+N)"
      ],
      "execution_count": null,
      "outputs": [
        {
          "output_type": "execute_result",
          "data": {
            "text/plain": [
              "0.7656652360515022"
            ]
          },
          "metadata": {
            "tags": []
          },
          "execution_count": 82
        }
      ]
    },
    {
      "cell_type": "code",
      "metadata": {
        "id": "JksQcuV5ZqGH",
        "outputId": "758cb840-b388-4797-bd47-e9971fb12116"
      },
      "source": [
        "# Sensitivity on test\n",
        "TP/P"
      ],
      "execution_count": null,
      "outputs": [
        {
          "output_type": "execute_result",
          "data": {
            "text/plain": [
              "0.52"
            ]
          },
          "metadata": {
            "tags": []
          },
          "execution_count": 84
        }
      ]
    },
    {
      "cell_type": "code",
      "metadata": {
        "id": "Mc3UTGf-ZqGH",
        "outputId": "a3f3a58d-5225-4780-8874-7810fe93653d"
      },
      "source": [
        "#Specificity on test\n",
        "TN/N"
      ],
      "execution_count": null,
      "outputs": [
        {
          "output_type": "execute_result",
          "data": {
            "text/plain": [
              "0.7825688073394496"
            ]
          },
          "metadata": {
            "tags": []
          },
          "execution_count": 83
        }
      ]
    },
    {
      "cell_type": "code",
      "metadata": {
        "id": "3S6bDupJZqGI"
      },
      "source": [
        "cutoffs=np.linspace(0.010,0.99,100)\n",
        "def Fbeta_perf(beta,cutoffs,y_train,prob_score):\n",
        "    FB_cut=[]\n",
        "    for cutoff in cutoffs:\n",
        "        predicted=pd.Series([0]*len(y_train))\n",
        "        predicted[prob_score>cutoff]=1\n",
        "        df=pd.DataFrame(list(zip(y_train,predicted)),columns=[\"real\",\"predicted\"])\n",
        "\n",
        "        TP=len(df[(df[\"real\"]==1) &(df[\"predicted\"]==1) ])\n",
        "        FP=len(df[(df[\"real\"]==0) &(df[\"predicted\"]==1) ])\n",
        "        FN=len(df[(df[\"real\"]==1) &(df[\"predicted\"]==0) ])\n",
        "        P=TP+FN\n",
        "        \n",
        "        \n",
        "        Precision=TP/(TP+FP)\n",
        "        Recall=TP/P\n",
        "        FB=(1+beta**2)*Precision*Recall/((beta**2)*Precision+Recall)\n",
        "        FB_cut.append(FB)\n",
        "\n",
        "    cutoff_data=pd.DataFrame(list(zip(cutoffs,FB_cut)),columns=[\"cutoff\",\"FB\"])\n",
        "\n",
        "    FB_cutoff=cutoff_data[cutoff_data[\"FB\"]==cutoff_data[\"FB\"].max()][\"cutoff\"]\n",
        "\n",
        "    prob_score_test=pd.Series(list(zip(*logr.predict_proba(x_test)))[1])\n",
        "\n",
        "    predicted_test=pd.Series([0]*len(y_test))\n",
        "    predicted_test[prob_score_test>float(FB_cutoff)]=1\n",
        "\n",
        "    df_test=pd.DataFrame(list(zip(y_test,predicted_test)),columns=[\"real\",\"predicted\"])\n",
        "\n",
        "    k=pd.crosstab(df_test['real'],df_test[\"predicted\"])\n",
        "#     print('confusion matrix :\\n \\n ',k)\n",
        "    TN=k.iloc[0,0]\n",
        "    TP=k.iloc[1,1]\n",
        "    FP=k.iloc[0,1]\n",
        "    FN=k.iloc[1,0]\n",
        "    P=TP+FN\n",
        "    N=TN+FP\n",
        "    print('For beta :',beta)\n",
        "    print('Accuracy is :',(TP+TN)/(P+N))\n",
        "    print('Sensitivity is :',(TP/P))\n",
        "    print('Specificity is :',(TN/N))\n",
        "    print('\\n \\n \\n')"
      ],
      "execution_count": null,
      "outputs": []
    },
    {
      "cell_type": "code",
      "metadata": {
        "id": "K0W7MqbBZqGI",
        "outputId": "a805c9c3-8f99-4b51-9185-59b12fa19581"
      },
      "source": [
        "Fbeta_perf(0.5,cutoffs,y_train,prob_score) #false +ve\n",
        "Fbeta_perf(1,cutoffs,y_train,prob_score) #false -ve \n",
        "Fbeta_perf(2,cutoffs,y_train,prob_score) #both"
      ],
      "execution_count": null,
      "outputs": [
        {
          "output_type": "stream",
          "text": [
            "For beta : 0.5\n",
            "Accuracy is : 0.9150214592274678\n",
            "Sensitivity is : 0.22666666666666666\n",
            "Specificity is : 0.9623853211009175\n",
            "\n",
            " \n",
            " \n",
            "\n",
            "For beta : 1\n",
            "Accuracy is : 0.8437768240343347\n",
            "Sensitivity is : 0.4266666666666667\n",
            "Specificity is : 0.8724770642201835\n",
            "\n",
            " \n",
            " \n",
            "\n",
            "For beta : 2\n",
            "Accuracy is : 0.7733905579399142\n",
            "Sensitivity is : 0.49333333333333335\n",
            "Specificity is : 0.7926605504587156\n",
            "\n",
            " \n",
            " \n",
            "\n"
          ],
          "name": "stdout"
        }
      ]
    },
    {
      "cell_type": "code",
      "metadata": {
        "id": "VW0oQlcXZqGJ",
        "outputId": "554fff89-1e42-4a66-f991-eb13210c690a"
      },
      "source": [
        "pre=TP/(TP+FP)\n",
        "pre"
      ],
      "execution_count": null,
      "outputs": [
        {
          "output_type": "execute_result",
          "data": {
            "text/plain": [
              "0.14130434782608695"
            ]
          },
          "metadata": {
            "tags": []
          },
          "execution_count": 87
        }
      ]
    },
    {
      "cell_type": "code",
      "metadata": {
        "id": "oH31HmLsZqGJ",
        "outputId": "660d36ea-79ee-445a-8c47-b942f8639059"
      },
      "source": [
        "rec=TP/P\n",
        "rec"
      ],
      "execution_count": null,
      "outputs": [
        {
          "output_type": "execute_result",
          "data": {
            "text/plain": [
              "0.52"
            ]
          },
          "metadata": {
            "tags": []
          },
          "execution_count": 88
        }
      ]
    },
    {
      "cell_type": "code",
      "metadata": {
        "id": "CYf1dpbqZqGJ",
        "outputId": "184ef0c3-1227-43ae-b8d5-9ac40e410982"
      },
      "source": [
        "((1+2)*pre*rec)/(2*pre+rec)"
      ],
      "execution_count": null,
      "outputs": [
        {
          "output_type": "execute_result",
          "data": {
            "text/plain": [
              "0.2746478873239437"
            ]
          },
          "metadata": {
            "tags": []
          },
          "execution_count": 89
        }
      ]
    },
    {
      "cell_type": "code",
      "metadata": {
        "id": "arHofYlfZqGJ"
      },
      "source": [
        "final=logr.predict_proba(cd_test)"
      ],
      "execution_count": null,
      "outputs": []
    },
    {
      "cell_type": "code",
      "metadata": {
        "id": "AVtevzwIZqGK"
      },
      "source": [
        "final_1=logr.predict(cd_test)"
      ],
      "execution_count": null,
      "outputs": []
    },
    {
      "cell_type": "code",
      "metadata": {
        "id": "-CsAUg8HZqGK",
        "outputId": "667b9ebc-b1fb-4f96-95e4-aa5be964853e"
      },
      "source": [
        "final"
      ],
      "execution_count": null,
      "outputs": [
        {
          "output_type": "execute_result",
          "data": {
            "text/plain": [
              "array([[0.81128132, 0.18871868],\n",
              "       [0.15794017, 0.84205983],\n",
              "       [0.50128345, 0.49871655],\n",
              "       ...,\n",
              "       [0.28811069, 0.71188931],\n",
              "       [0.50796149, 0.49203851],\n",
              "       [0.38572093, 0.61427907]])"
            ]
          },
          "metadata": {
            "tags": []
          },
          "execution_count": 91
        }
      ]
    },
    {
      "cell_type": "code",
      "metadata": {
        "id": "7PWny0HCZqGK",
        "outputId": "58bd2b92-43d3-4663-f6eb-be7a60db6e32"
      },
      "source": [
        "final_1"
      ],
      "execution_count": null,
      "outputs": [
        {
          "output_type": "execute_result",
          "data": {
            "text/plain": [
              "array([0, 1, 0, ..., 1, 0, 1], dtype=int64)"
            ]
          },
          "metadata": {
            "tags": []
          },
          "execution_count": 103
        }
      ]
    },
    {
      "cell_type": "code",
      "metadata": {
        "id": "OwoFryb-ZqGK"
      },
      "source": [
        "final_score=pd.Series(list(zip(*logr.predict_proba(cd_test)))[1])"
      ],
      "execution_count": null,
      "outputs": []
    },
    {
      "cell_type": "code",
      "metadata": {
        "id": "7YU_yQSvZqGL",
        "outputId": "1fa414ef-81f2-4d29-f202-b0ef1e6e082c"
      },
      "source": [
        "final_score"
      ],
      "execution_count": null,
      "outputs": [
        {
          "output_type": "execute_result",
          "data": {
            "text/plain": [
              "0       0.188719\n",
              "1       0.842060\n",
              "2       0.498717\n",
              "3       0.585434\n",
              "4       0.160550\n",
              "          ...   \n",
              "3995    0.551278\n",
              "3996    0.393557\n",
              "3997    0.711889\n",
              "3998    0.492039\n",
              "3999    0.614279\n",
              "Length: 4000, dtype: float64"
            ]
          },
          "metadata": {
            "tags": []
          },
          "execution_count": 96
        }
      ]
    },
    {
      "cell_type": "code",
      "metadata": {
        "id": "iWUH7CThZqGL"
      },
      "source": [
        "final_test=pd.Series([0]*len(cd_test))"
      ],
      "execution_count": null,
      "outputs": []
    },
    {
      "cell_type": "code",
      "metadata": {
        "id": "pmHdrJe8ZqGL",
        "outputId": "1bc6f5d9-3ec6-49d9-ac25-e553cd5c336b"
      },
      "source": [
        "final_test"
      ],
      "execution_count": null,
      "outputs": [
        {
          "output_type": "execute_result",
          "data": {
            "text/plain": [
              "0       0\n",
              "1       0\n",
              "2       0\n",
              "3       0\n",
              "4       0\n",
              "       ..\n",
              "3995    0\n",
              "3996    0\n",
              "3997    0\n",
              "3998    0\n",
              "3999    0\n",
              "Length: 4000, dtype: int64"
            ]
          },
          "metadata": {
            "tags": []
          },
          "execution_count": 98
        }
      ]
    },
    {
      "cell_type": "code",
      "metadata": {
        "id": "TxrXdREwZqGL"
      },
      "source": [
        "final_test[final_score>float(KS_cutoff)]=1"
      ],
      "execution_count": null,
      "outputs": []
    },
    {
      "cell_type": "code",
      "metadata": {
        "id": "C00FKb15ZqGM",
        "outputId": "a5022ad5-9952-4ed1-9e33-1c770f8cb360"
      },
      "source": [
        "final_test"
      ],
      "execution_count": null,
      "outputs": [
        {
          "output_type": "execute_result",
          "data": {
            "text/plain": [
              "0       0\n",
              "1       1\n",
              "2       0\n",
              "3       1\n",
              "4       0\n",
              "       ..\n",
              "3995    0\n",
              "3996    0\n",
              "3997    1\n",
              "3998    0\n",
              "3999    1\n",
              "Length: 4000, dtype: int64"
            ]
          },
          "metadata": {
            "tags": []
          },
          "execution_count": 100
        }
      ]
    },
    {
      "cell_type": "code",
      "metadata": {
        "id": "LQdjiheaZqGM",
        "outputId": "db07c8f1-ee62-4806-a787-d2b66e2343ef"
      },
      "source": [
        "roc_auc_score(final_1,final_test)"
      ],
      "execution_count": null,
      "outputs": [
        {
          "output_type": "execute_result",
          "data": {
            "text/plain": [
              "0.8914285714285715"
            ]
          },
          "metadata": {
            "tags": []
          },
          "execution_count": 104
        }
      ]
    },
    {
      "cell_type": "code",
      "metadata": {
        "id": "BW6Lq2iAZqGM"
      },
      "source": [
        "submission=pd.DataFrame(list(final_test),columns=['V86'])"
      ],
      "execution_count": null,
      "outputs": []
    },
    {
      "cell_type": "code",
      "metadata": {
        "id": "idI4Ff4JZqGM"
      },
      "source": [
        "submission.to_csv('tirupathi_rao_P2_part2.csv',columns=['V86'],index=False)"
      ],
      "execution_count": null,
      "outputs": []
    }
  ]
}